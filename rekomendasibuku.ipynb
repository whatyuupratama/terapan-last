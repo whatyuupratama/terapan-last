{
 "cells": [
  {
   "cell_type": "markdown",
   "id": "21ac5915",
   "metadata": {},
   "source": [
    "Sistem Rekomendasi Buku"
   ]
  },
  {
   "cell_type": "markdown",
   "id": "b471964c",
   "metadata": {},
   "source": [
    "# Sistem Rekomendasi Buku\n",
    "\n",
    "## 1. Project Overview\n",
    "\n",
    "Membaca buku merupakan salah satu cara utama untuk memperoleh pengetahuan dan hiburan. Namun, dengan jumlah buku yang terus bertambah setiap tahunnya, pengguna sering kali mengalami kesulitan dalam menemukan buku yang relevan dan sesuai dengan minat mereka. Menurut laporan UNESCO, lebih dari 2,2 juta judul buku baru diterbitkan setiap tahun di seluruh dunia[^1]. Hal ini menyebabkan informasi yang tersedia menjadi sangat melimpah (information overload), sehingga pengguna membutuhkan bantuan untuk menemukan buku yang tepat.\n",
    "\n",
    "Sistem rekomendasi buku hadir sebagai solusi untuk membantu pengguna menemukan buku yang relevan secara personal. Berdasarkan riset oleh Ricci et al., 2015, sistem rekomendasi dapat meningkatkan kepuasan pengguna dan waktu yang dihabiskan pada platform digital. Goodreads, sebagai salah satu platform buku terbesar, juga mengandalkan sistem rekomendasi untuk meningkatkan engagement pengguna.\n",
    "\n",
    "Proyek ini penting untuk diselesaikan karena:\n",
    "\n",
    "Membantu pengguna menemukan buku yang sesuai dengan preferensi mereka, sehingga meningkatkan pengalaman membaca.\n",
    "Mengurangi waktu pencarian dan meningkatkan kemungkinan pengguna menemukan buku-buku baru yang relevan.\n",
    "Memberikan nilai tambah bagi platform digital yang menyediakan layanan buku.\n",
    "Pendekatan yang digunakan dalam proyek ini adalah Content-based Filtering dan Collaborative Filtering, dua metode yang terbukti efektif dalam berbagai studi sistem rekomendasi (Aggarwal, 2016)."
   ]
  },
  {
   "cell_type": "markdown",
   "id": "dbf31c23",
   "metadata": {},
   "source": [
    "## 2. Business Understanding\n",
    "\n",
    "### Problem Statement\n",
    "Pengguna kesulitan menemukan buku yang relevan karena banyaknya pilihan dan kurangnya personalisasi rekomendasi.\n",
    "\n",
    "### Goals\n",
    "Mengembangkan sistem rekomendasi top-N buku yang relevan untuk setiap pengguna.\n",
    "\n",
    "### Solution Approach\n",
    "Untuk mencapai tujuan tersebut, digunakan dua pendekatan utama:\n",
    "- **Content-based Filtering:** Merekomendasikan buku berdasarkan kemiripan fitur (judul, penulis, tag) menggunakan teknik TF-IDF dan cosine similarity.\n",
    "- **Collaborative Filtering:** Merekomendasikan buku berdasarkan perilaku pengguna lain yang mirip, menggunakan matrix factorization (LightFM).\n"
   ]
  },
  {
   "cell_type": "markdown",
   "id": "aa153af4",
   "metadata": {},
   "source": [
    "## 3. Data Understanding\n",
    "\n",
    "Dataset berasal dari Kaggle: Goodreads-books-10k. Meliputi books.csv, ratings.csv, book_tags.csv, dan tags.csv"
   ]
  },
  {
   "cell_type": "code",
   "execution_count": 1,
   "id": "34cecd65",
   "metadata": {},
   "outputs": [
    {
     "name": "stderr",
     "output_type": "stream",
     "text": [
      "/Users/wahyupratama/Documents/camp-general/terapanahir/.venv/lib/python3.9/site-packages/lightfm/_lightfm_fast.py:9: UserWarning: LightFM was compiled without OpenMP support. Only a single thread will be used.\n",
      "  warnings.warn(\n"
     ]
    },
    {
     "name": "stdout",
     "output_type": "stream",
     "text": [
      "CSV files loaded:\n",
      "book_tags.csv: 999912 rows\n",
      "tags.csv: 34252 rows\n",
      "ratings.csv: 981756 rows\n",
      "books.csv: 10000 rows\n"
     ]
    }
   ],
   "source": [
    "import pandas as pd\n",
    "import numpy as np\n",
    "import matplotlib.pyplot as plt\n",
    "import seaborn as sns\n",
    "from sklearn.feature_extraction.text import TfidfVectorizer\n",
    "from sklearn.metrics.pairwise import cosine_similarity\n",
    "from sklearn.preprocessing import LabelEncoder\n",
    "from lightfm import LightFM\n",
    "from scipy import sparse\n",
    "import os\n",
    "\n",
    "DATA_PATH = './data/'\n",
    "\n",
    "if not os.path.exists(DATA_PATH):\n",
    "    print(f\"Error: Folder '{DATA_PATH}' not found. Please ensure the dataset is uploaded or Google Drive is connected.\")\n",
    "else:\n",
    "    books_df = pd.read_csv(os.path.join(DATA_PATH, 'books.csv'))\n",
    "    ratings_df = pd.read_csv(os.path.join(DATA_PATH, 'ratings.csv'))\n",
    "    book_tags_df = pd.read_csv(os.path.join(DATA_PATH, 'book_tags.csv'))\n",
    "    tags_df = pd.read_csv(os.path.join(DATA_PATH, 'tags.csv'))\n",
    "\n",
    "    print(\"CSV files loaded:\")\n",
    "    print(f\"book_tags.csv: {len(book_tags_df)} rows\")\n",
    "    print(f\"tags.csv: {len(tags_df)} rows\")\n",
    "    print(f\"ratings.csv: {len(ratings_df)} rows\")\n",
    "    print(f\"books.csv: {len(books_df)} rows\")"
   ]
  },
  {
   "cell_type": "markdown",
   "id": "c60b4128",
   "metadata": {},
   "source": [
    "Exploratory Data Analysis (EDA)"
   ]
  },
  {
   "cell_type": "code",
   "execution_count": 2,
   "id": "66d79720",
   "metadata": {},
   "outputs": [
    {
     "name": "stdout",
     "output_type": "stream",
     "text": [
      "<class 'pandas.core.frame.DataFrame'>\n",
      "RangeIndex: 10000 entries, 0 to 9999\n",
      "Data columns (total 23 columns):\n",
      " #   Column                     Non-Null Count  Dtype  \n",
      "---  ------                     --------------  -----  \n",
      " 0   id                         10000 non-null  int64  \n",
      " 1   book_id                    10000 non-null  int64  \n",
      " 2   best_book_id               10000 non-null  int64  \n",
      " 3   work_id                    10000 non-null  int64  \n",
      " 4   books_count                10000 non-null  int64  \n",
      " 5   isbn                       9300 non-null   object \n",
      " 6   isbn13                     9415 non-null   float64\n",
      " 7   authors                    10000 non-null  object \n",
      " 8   original_publication_year  9979 non-null   float64\n",
      " 9   original_title             9415 non-null   object \n",
      " 10  title                      10000 non-null  object \n",
      " 11  language_code              8916 non-null   object \n",
      " 12  average_rating             10000 non-null  float64\n",
      " 13  ratings_count              10000 non-null  int64  \n",
      " 14  work_ratings_count         10000 non-null  int64  \n",
      " 15  work_text_reviews_count    10000 non-null  int64  \n",
      " 16  ratings_1                  10000 non-null  int64  \n",
      " 17  ratings_2                  10000 non-null  int64  \n",
      " 18  ratings_3                  10000 non-null  int64  \n",
      " 19  ratings_4                  10000 non-null  int64  \n",
      " 20  ratings_5                  10000 non-null  int64  \n",
      " 21  image_url                  10000 non-null  object \n",
      " 22  small_image_url            10000 non-null  object \n",
      "dtypes: float64(3), int64(13), object(7)\n",
      "memory usage: 1.8+ MB\n",
      "   id  book_id  best_book_id  work_id  books_count       isbn        isbn13  \\\n",
      "0   1  2767052       2767052  2792775          272  439023483  9.780439e+12   \n",
      "1   2        3             3  4640799          491  439554934  9.780440e+12   \n",
      "2   3    41865         41865  3212258          226  316015849  9.780316e+12   \n",
      "3   4     2657          2657  3275794          487   61120081  9.780061e+12   \n",
      "4   5     4671          4671   245494         1356  743273567  9.780743e+12   \n",
      "\n",
      "                       authors  original_publication_year  \\\n",
      "0              Suzanne Collins                     2008.0   \n",
      "1  J.K. Rowling, Mary GrandPré                     1997.0   \n",
      "2              Stephenie Meyer                     2005.0   \n",
      "3                   Harper Lee                     1960.0   \n",
      "4          F. Scott Fitzgerald                     1925.0   \n",
      "\n",
      "                             original_title  ... ratings_count  \\\n",
      "0                          The Hunger Games  ...       4780653   \n",
      "1  Harry Potter and the Philosopher's Stone  ...       4602479   \n",
      "2                                  Twilight  ...       3866839   \n",
      "3                     To Kill a Mockingbird  ...       3198671   \n",
      "4                          The Great Gatsby  ...       2683664   \n",
      "\n",
      "  work_ratings_count  work_text_reviews_count  ratings_1  ratings_2  \\\n",
      "0            4942365                   155254      66715     127936   \n",
      "1            4800065                    75867      75504     101676   \n",
      "2            3916824                    95009     456191     436802   \n",
      "3            3340896                    72586      60427     117415   \n",
      "4            2773745                    51992      86236     197621   \n",
      "\n",
      "   ratings_3  ratings_4  ratings_5  \\\n",
      "0     560092    1481305    2706317   \n",
      "1     455024    1156318    3011543   \n",
      "2     793319     875073    1355439   \n",
      "3     446835    1001952    1714267   \n",
      "4     606158     936012     947718   \n",
      "\n",
      "                                           image_url  \\\n",
      "0  https://images.gr-assets.com/books/1447303603m...   \n",
      "1  https://images.gr-assets.com/books/1474154022m...   \n",
      "2  https://images.gr-assets.com/books/1361039443m...   \n",
      "3  https://images.gr-assets.com/books/1361975680m...   \n",
      "4  https://images.gr-assets.com/books/1490528560m...   \n",
      "\n",
      "                                     small_image_url  \n",
      "0  https://images.gr-assets.com/books/1447303603s...  \n",
      "1  https://images.gr-assets.com/books/1474154022s...  \n",
      "2  https://images.gr-assets.com/books/1361039443s...  \n",
      "3  https://images.gr-assets.com/books/1361975680s...  \n",
      "4  https://images.gr-assets.com/books/1490528560s...  \n",
      "\n",
      "[5 rows x 23 columns]\n"
     ]
    },
    {
     "data": {
      "image/png": "[encoded data removed]",
      "text/plain": [
       "<Figure size 1000x500 with 1 Axes>"
      ]
     },
     "metadata": {},
     "output_type": "display_data"
    },
    {
     "name": "stdout",
     "output_type": "stream",
     "text": [
      "<class 'pandas.core.frame.DataFrame'>\n",
      "RangeIndex: 981756 entries, 0 to 981755\n",
      "Data columns (total 3 columns):\n",
      " #   Column   Non-Null Count   Dtype\n",
      "---  ------   --------------   -----\n",
      " 0   book_id  981756 non-null  int64\n",
      " 1   user_id  981756 non-null  int64\n",
      " 2   rating   981756 non-null  int64\n",
      "dtypes: int64(3)\n",
      "memory usage: 22.5 MB\n",
      "   book_id  user_id  rating\n",
      "0        1      314       5\n",
      "1        1      439       3\n",
      "2        1      588       5\n",
      "3        1     1169       4\n",
      "4        1     1185       4\n"
     ]
    },
    {
     "name": "stderr",
     "output_type": "stream",
     "text": [
      "/var/folders/dp/ywbj5v353sn30pwhx9ygvs5c0000gn/T/ipykernel_48355/686846779.py:12: FutureWarning: \n",
      "\n",
      "Passing `palette` without assigning `hue` is deprecated and will be removed in v0.14.0. Assign the `x` variable to `hue` and set `legend=False` for the same effect.\n",
      "\n",
      "  sns.countplot(x='rating', data=ratings_df, palette='viridis')\n"
     ]
    },
    {
     "data": {
      "image/png": "[encoded data removed]",
      "text/plain": [
       "<Figure size 800x500 with 1 Axes>"
      ]
     },
     "metadata": {},
     "output_type": "display_data"
    },
    {
     "name": "stdout",
     "output_type": "stream",
     "text": [
      "   goodreads_book_id  tag_id   count           tag_name\n",
      "0                  1   30574  167697            to-read\n",
      "1                  1   11305   37174            fantasy\n",
      "2                  1   11557   34173          favorites\n",
      "3                  1    8717   12986  currently-reading\n",
      "4                  1   33114   12716        young-adult\n",
      "Top 10 Most Used Tags:\n",
      "tag_name\n",
      "to-read              140718761\n",
      "currently-reading      7507958\n",
      "favorites              4503173\n",
      "fiction                3688819\n",
      "fantasy                3548157\n",
      "young-adult            1848306\n",
      "classics               1756920\n",
      "books-i-own            1317235\n",
      "romance                1231926\n",
      "owned                  1224279\n",
      "Name: count, dtype: int64\n"
     ]
    }
   ],
   "source": [
    "books_df.info()\n",
    "print(books_df.head())\n",
    "plt.figure(figsize=(10, 5))\n",
    "sns.histplot(books_df['average_rating'], bins=20, kde=True)\n",
    "plt.title('Distribution of Average Book Ratings')\n",
    "plt.savefig('images/distribution_average_book_ratings.png')  # Simpan gambar\n",
    "plt.show()\n",
    "\n",
    "ratings_df.info()\n",
    "print(ratings_df.head())\n",
    "plt.figure(figsize=(8, 5))\n",
    "sns.countplot(x='rating', data=ratings_df, palette='viridis')\n",
    "plt.title('Distribution of User Ratings')\n",
    "plt.savefig('images/distribution_user_ratings.png')  # Simpan gambar\n",
    "plt.show()\n",
    "\n",
    "book_tags_merged_df = pd.merge(book_tags_df, tags_df, on='tag_id', how='left')\n",
    "print(book_tags_merged_df.head())\n",
    "print(\"Top 10 Most Used Tags:\")\n",
    "print(book_tags_merged_df.groupby('tag_name')['count'].sum().sort_values(ascending=False).head(10))"
   ]
  },
  {
   "cell_type": "markdown",
   "id": "67132410",
   "metadata": {},
   "source": [
    "- **Precision@10 (train): 0.1964**  \n",
    "  Artinya, sekitar 19.6% dari rekomendasi top-10 yang diberikan kepada pengguna benar-benar relevan.\n",
    "- **Recall@10 (train): 0.8780**  \n",
    "  Artinya, sekitar 87.8% item relevan berhasil ditemukan di top-10 rekomendasi.\n",
    "\n",
    "Semakin tinggi nilai precision dan recall, semakin baik performa model.  \n",
    "**Catatan:** Untuk evaluasi yang lebih akurat, sebaiknya lakukan split data (train/test) dan evaluasi di data test, bukan hanya di training."
   ]
  },
  {
   "cell_type": "markdown",
   "id": "cbf7ef89",
   "metadata": {},
   "source": [
    "## 4. Data Preparation\n",
    "\n",
    "Data preparation meliputi penggabungan data, penanganan duplikat, rekayasa fitur TF-IDF untuk Content-based, dan encoding ID untuk Collaborative Filtering."
   ]
  },
  {
   "cell_type": "code",
   "execution_count": 3,
   "id": "17e20fe5",
   "metadata": {},
   "outputs": [
    {
     "name": "stderr",
     "output_type": "stream",
     "text": [
      "/var/folders/dp/ywbj5v353sn30pwhx9ygvs5c0000gn/T/ipykernel_48355/3804434186.py:13: FutureWarning: A value is trying to be set on a copy of a DataFrame or Series through chained assignment using an inplace method.\n",
      "The behavior will change in pandas 3.0. This inplace method will never work because the intermediate object on which we are setting values always behaves as a copy.\n",
      "\n",
      "For example, when doing 'df[col].method(value, inplace=True)', try using 'df.method({col: value}, inplace=True)' or df[col] = df[col].method(value) instead, to perform the operation inplace on the original object.\n",
      "\n",
      "\n",
      "  books_content_df['tags'].fillna('', inplace=True)\n"
     ]
    },
    {
     "name": "stdout",
     "output_type": "stream",
     "text": [
      "Data Preparation Complete.\n"
     ]
    }
   ],
   "source": [
    "books_with_tags = pd.merge(\n",
    "    books_df, \n",
    "    book_tags_df, \n",
    "    left_on='book_id', \n",
    "    right_on='goodreads_book_id', \n",
    "    how='left'\n",
    ")\n",
    "books_with_tags = pd.merge(books_with_tags, tags_df, on='tag_id', how='left')\n",
    "\n",
    "books_content_df = books_with_tags[['book_id', 'title', 'authors', 'tag_name']].copy()\n",
    "books_content_df = books_content_df.groupby(['book_id', 'title', 'authors'])['tag_name'].apply(lambda x: \" \".join(x.dropna().unique())).reset_index()\n",
    "books_content_df.rename(columns={'tag_name': 'tags'}, inplace=True)\n",
    "books_content_df['tags'].fillna('', inplace=True)\n",
    "\n",
    "ratings_filtered_df = ratings_df[ratings_df['book_id'].isin(books_df['book_id'])].copy()\n",
    "\n",
    "ratings_filtered_df.drop_duplicates(subset=['user_id', 'book_id'], inplace=True)\n",
    "books_content_df.drop_duplicates(subset=['book_id'], inplace=True)\n",
    "\n",
    "books_content_df['content_features'] = books_content_df['title'].fillna('') + \" \" + \\\n",
    "                                      books_content_df['authors'].fillna('') + \" \" + \\\n",
    "                                      books_content_df['tags'].fillna('')\n",
    "tfidf = TfidfVectorizer(stop_words='english')\n",
    "tfidf_matrix = tfidf.fit_transform(books_content_df['content_features'])\n",
    "\n",
    "user_encoder = LabelEncoder()\n",
    "book_encoder = LabelEncoder()\n",
    "ratings_filtered_df['user_id_encoded'] = user_encoder.fit_transform(ratings_filtered_df['user_id'])\n",
    "ratings_filtered_df['book_id_encoded'] = book_encoder.fit_transform(ratings_filtered_df['book_id'])\n",
    "\n",
    "print(\"Data Preparation Complete.\")"
   ]
  },
  {
   "cell_type": "markdown",
   "id": "432767dd",
   "metadata": {},
   "source": [
    "## 5. Modeling\n"
   ]
  },
  {
   "cell_type": "markdown",
   "id": "fc649535",
   "metadata": {},
   "source": [
    "Algoritma yang Digunakan\n",
    "Implementasi dua model rekomendasi."
   ]
  },
  {
   "cell_type": "markdown",
   "id": "3a669b09",
   "metadata": {},
   "source": [
    "**a. Content-based Filtering**\n",
    "\n",
    "Membangun sistem rekomendasi berbasis konten menggunakan Cosine Similarity dari fitur TF-IDF."
   ]
  },
  {
   "cell_type": "code",
   "execution_count": 4,
   "id": "d203bc80",
   "metadata": {},
   "outputs": [
    {
     "name": "stdout",
     "output_type": "stream",
     "text": [
      "--- Modeling: Content-based Filtering ---\n",
      "\n",
      "--- Content-based Recommendations for: 'One Silent Night (Dark-Hunter #15)' (ID: 3122173) ---\n",
      "                                                  title           authors  \\\n",
      "3208                 Sins of the Night (Dark-Hunter #7)  Sherrilyn Kenyon   \n",
      "3213                   Seize the Night (Dark-Hunter #6)  Sherrilyn Kenyon   \n",
      "3207                   Devil May Cry (Dark-Hunter, #11)  Sherrilyn Kenyon   \n",
      "3212                Kiss of the Night (Dark-Hunter, #4)  Sherrilyn Kenyon   \n",
      "5171  Upon the Midnight Clear (Dark-Hunter #12, Drea...  Sherrilyn Kenyon   \n",
      "3215  Dark Side of the Moon (Dark-Hunter #9, Were-Hu...  Sherrilyn Kenyon   \n",
      "7464                     Retribution (Dark-Hunter, #19)  Sherrilyn Kenyon   \n",
      "6937                  Night Pleasures (Dark-Hunter, #1)  Sherrilyn Kenyon   \n",
      "3214              Dance with the Devil (Dark-Hunter #3)  Sherrilyn Kenyon   \n",
      "3211                     Night Embrace (Dark-Hunter #2)  Sherrilyn Kenyon   \n",
      "\n",
      "      similarity_score  \n",
      "3208          0.951912  \n",
      "3213          0.951466  \n",
      "3207          0.947216  \n",
      "3212          0.943525  \n",
      "5171          0.937171  \n",
      "3215          0.932164  \n",
      "7464          0.925453  \n",
      "6937          0.924711  \n",
      "3214          0.922689  \n",
      "3211          0.920086  \n"
     ]
    }
   ],
   "source": [
    "print(\"--- Modeling: Content-based Filtering ---\")\n",
    "from sklearn.model_selection import train_test_split\n",
    "\n",
    "cosine_sim = cosine_similarity(tfidf_matrix, tfidf_matrix)\n",
    "book_id_to_idx = pd.Series(books_content_df.index, index=books_content_df['book_id']).drop_duplicates()\n",
    "train_df, test_df = train_test_split(ratings_filtered_df, test_size=0.2, random_state=42)\n",
    "\n",
    "\n",
    "n_users = ratings_filtered_df['user_id_encoded'].nunique()\n",
    "n_items = ratings_filtered_df['book_id_encoded'].nunique()\n",
    "interaction_matrix = sparse.coo_matrix(\n",
    "    (ratings_filtered_df['rating'], (ratings_filtered_df['user_id_encoded'], ratings_filtered_df['book_id_encoded'])),\n",
    "    shape=(n_users, n_items)\n",
    ")\n",
    "\n",
    "model = LightFM(no_components=20, loss='warp')\n",
    "model.fit(interaction_matrix, epochs=10, num_threads=2)\n",
    "\n",
    "def get_content_based_recommendations(book_id, cosine_sim_matrix, df, N=10):\n",
    "    if book_id not in book_id_to_idx:\n",
    "        return pd.DataFrame()\n",
    "    idx = book_id_to_idx[book_id]\n",
    "    sim_scores = list(enumerate(cosine_sim_matrix[idx]))\n",
    "    sim_scores = sorted(sim_scores, key=lambda x: x[1], reverse=True)\n",
    "    sim_scores = sim_scores[1:N+1]\n",
    "    book_indices = [i[0] for i in sim_scores]\n",
    "    similar_scores = [i[1] for i in sim_scores]\n",
    "    recommended_books = df.iloc[book_indices].copy()\n",
    "    recommended_books['similarity_score'] = similar_scores\n",
    "    return recommended_books[['title', 'authors', 'similarity_score']]\n",
    "\n",
    "example_book_id = books_content_df['book_id'].sample(1).iloc[0]\n",
    "example_book_title = books_content_df[books_content_df['book_id'] == example_book_id]['title'].iloc[0]\n",
    "\n",
    "print(f\"\\n--- Content-based Recommendations for: '{example_book_title}' (ID: {example_book_id}) ---\")\n",
    "content_recs = get_content_based_recommendations(example_book_id, cosine_sim, books_content_df, N=10)\n",
    "print(content_recs)"
   ]
  },
  {
   "cell_type": "markdown",
   "id": "18896f88",
   "metadata": {},
   "source": [
    "**b. Collaborative Filtering (Matrix Factorization)**\n",
    "\n",
    "Membangun sistem rekomendasi kolaboratif menggunakan algoritma SVD dari library Surprise."
   ]
  },
  {
   "cell_type": "code",
   "execution_count": 5,
   "id": "3774f4e3",
   "metadata": {},
   "outputs": [],
   "source": [
    "def get_lightfm_recommendations(user_id, n_recommendations=10):\n",
    "    if user_id not in user_encoder.classes_:\n",
    "        return pd.DataFrame()\n",
    "    encoded_user_id = user_encoder.transform([user_id])[0]\n",
    "    scores = model.predict(np.repeat(encoded_user_id, n_items), np.arange(n_items))\n",
    "    top_items = np.argsort(-scores)[:n_recommendations]\n",
    "\n",
    "    book_id_decoded = book_encoder.inverse_transform(top_items)\n",
    "    recommended_books_info = books_df[books_df['book_id'].isin(book_id_decoded)]\n",
    "    return recommended_books_info[['title', 'authors']].head(n_recommendations)"
   ]
  },
  {
   "cell_type": "markdown",
   "id": "d5e51ecf",
   "metadata": {},
   "source": [
    "## 6. Evaluation"
   ]
  },
  {
   "cell_type": "markdown",
   "id": "fe6c8b0f",
   "metadata": {},
   "source": [
    "Evaluasi Content-based Filtering\n",
    "Evaluasi dilakukan secara kualitatif dengan melihat relevansi hasil rekomendasi yang diberikan untuk sebuah buku.\n",
    "Jika hasil rekomendasi berisi buku-buku dengan tema, penulis, atau tag yang mirip, maka model sudah bekerja dengan baik."
   ]
  },
  {
   "cell_type": "code",
   "execution_count": 6,
   "id": "fa8c089f",
   "metadata": {},
   "outputs": [
    {
     "name": "stdout",
     "output_type": "stream",
     "text": [
      "Evaluasi Content-based Filtering:\n",
      "                                                  title           authors  \\\n",
      "3208                 Sins of the Night (Dark-Hunter #7)  Sherrilyn Kenyon   \n",
      "3213                   Seize the Night (Dark-Hunter #6)  Sherrilyn Kenyon   \n",
      "3207                   Devil May Cry (Dark-Hunter, #11)  Sherrilyn Kenyon   \n",
      "3212                Kiss of the Night (Dark-Hunter, #4)  Sherrilyn Kenyon   \n",
      "5171  Upon the Midnight Clear (Dark-Hunter #12, Drea...  Sherrilyn Kenyon   \n",
      "3215  Dark Side of the Moon (Dark-Hunter #9, Were-Hu...  Sherrilyn Kenyon   \n",
      "7464                     Retribution (Dark-Hunter, #19)  Sherrilyn Kenyon   \n",
      "6937                  Night Pleasures (Dark-Hunter, #1)  Sherrilyn Kenyon   \n",
      "3214              Dance with the Devil (Dark-Hunter #3)  Sherrilyn Kenyon   \n",
      "3211                     Night Embrace (Dark-Hunter #2)  Sherrilyn Kenyon   \n",
      "\n",
      "      similarity_score  \n",
      "3208          0.951912  \n",
      "3213          0.951466  \n",
      "3207          0.947216  \n",
      "3212          0.943525  \n",
      "5171          0.937171  \n",
      "3215          0.932164  \n",
      "7464          0.925453  \n",
      "6937          0.924711  \n",
      "3214          0.922689  \n",
      "3211          0.920086  \n"
     ]
    }
   ],
   "source": [
    "\n",
    "print(\"Evaluasi Content-based Filtering:\")\n",
    "print(content_recs)"
   ]
  },
  {
   "cell_type": "markdown",
   "id": "ae183a28",
   "metadata": {},
   "source": [
    "Evaluasi Collaborative Filtering (LightFM)\n",
    "\n",
    "Untuk collaborative filtering, dapat digunakan metrik precision@k atau recall@k.\n",
    "LightFM menyediakan fungsi evaluasi otomatis, misal precision@k."
   ]
  },
  {
   "cell_type": "code",
   "execution_count": 7,
   "id": "9bef038d",
   "metadata": {},
   "outputs": [
    {
     "name": "stdout",
     "output_type": "stream",
     "text": [
      "Precision@10 (train): 0.1955\n",
      "Recall@10 (train): 0.8763\n"
     ]
    }
   ],
   "source": [
    "from lightfm.evaluation import precision_at_k, recall_at_k\n",
    "\n",
    "train_precision = precision_at_k(model, interaction_matrix, k=10).mean()\n",
    "train_recall = recall_at_k(model, interaction_matrix, k=10).mean()\n",
    "\n",
    "print(f\"Precision@10 (train): {train_precision:.4f}\")\n",
    "print(f\"Recall@10 (train): {train_recall:.4f}\")"
   ]
  },
  {
   "cell_type": "markdown",
   "id": "6b82588b",
   "metadata": {},
   "source": [
    "- **Precision@10 (train): 0.1964**  \n",
    "  Artinya, sekitar 19.6% dari rekomendasi top-10 yang diberikan kepada pengguna benar-benar relevan.\n",
    "- **Recall@10 (train): 0.8780**  \n",
    "  Artinya, sekitar 87.8% item relevan berhasil ditemukan di top-10 rekomendasi.\n",
    "\n",
    "Semakin tinggi nilai precision dan recall, semakin baik performa model.  \n",
    "**Catatan:** Untuk evaluasi yang lebih akurat, sebaiknya lakukan split data (train/test) dan evaluasi di data test, bukan hanya di training."
   ]
  }
 ],
 "metadata": {
  "kernelspec": {
   "display_name": ".venv",
   "language": "python",
   "name": "python3"
  },
  "language_info": {
   "codemirror_mode": {
    "name": "ipython",
    "version": 3
   },
   "file_extension": ".py",
   "mimetype": "text/x-python",
   "name": "python",
   "nbconvert_exporter": "python",
   "pygments_lexer": "ipython3",
   "version": "3.9.11"
  }
 },
 "nbformat": 4,
 "nbformat_minor": 5
}
